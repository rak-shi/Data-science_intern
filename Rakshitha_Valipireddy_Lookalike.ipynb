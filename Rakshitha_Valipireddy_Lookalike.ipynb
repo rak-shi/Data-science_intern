{
  "nbformat": 4,
  "nbformat_minor": 0,
  "metadata": {
    "colab": {
      "provenance": []
    },
    "kernelspec": {
      "name": "python3",
      "display_name": "Python 3"
    },
    "language_info": {
      "name": "python"
    }
  },
  "cells": [
    {
      "cell_type": "code",
      "execution_count": null,
      "metadata": {
        "id": "0IPrMC-eUy8o"
      },
      "outputs": [],
      "source": [
        "# 1. Import Libraries\n",
        "import pandas as pd\n",
        "import numpy as np\n",
        "from sklearn.preprocessing import MinMaxScaler\n",
        "from sklearn.metrics.pairwise import cosine_similarity"
      ]
    },
    {
      "cell_type": "code",
      "source": [
        "# 2. Load Datasets\n",
        "customers = pd.read_csv(\"/content/Customers.csv\")\n",
        "products = pd.read_csv(\"/content/Products.csv\")\n",
        "transactions = pd.read_csv(\"/content/Transactions.csv\")"
      ],
      "metadata": {
        "id": "89NtLVVmVCwq"
      },
      "execution_count": null,
      "outputs": []
    },
    {
      "cell_type": "code",
      "source": [
        "# 3. Data Preprocessing\n",
        "# Merge datasets\n",
        "#TotalSpend: Sum of TotalValue for all transactions.\n",
        "#AverageOrderValue: TotalSpend / Number of Transactions.\n",
        "#ProductCategoryPreferences: Frequency of purchased categories.\n",
        "merged_data = transactions.merge(customers, on=\"CustomerID\", how=\"left\") \\\n",
        "                          .merge(products, on=\"ProductID\", how=\"left\")"
      ],
      "metadata": {
        "id": "mT7riNvLVNVM"
      },
      "execution_count": null,
      "outputs": []
    },
    {
      "cell_type": "code",
      "source": [
        "# 3. Data Preprocessing\n",
        "# Merge datasets\n",
        "merged_data = transactions.merge(customers, on=\"CustomerID\", how=\"left\") \\\n",
        "                          .merge(products, on=\"ProductID\", how=\"left\")\n",
        "\n",
        "# Feature engineering\n",
        "customer_features = merged_data.groupby('CustomerID').agg(\n",
        "    TotalSpend=('TotalValue', 'sum'),\n",
        "    AvgOrderValue=('TotalValue', 'mean'),\n",
        "    NumTransactions=('TransactionID', 'count'),\n",
        "    Region=('Region', 'first')\n",
        ").reset_index()\n",
        "\n",
        "# One-hot encode categorical variables (e.g., Region)\n",
        "customer_features = pd.get_dummies(customer_features, columns=['Region'])\n"
      ],
      "metadata": {
        "id": "N81JDECsVRTa"
      },
      "execution_count": null,
      "outputs": []
    },
    {
      "cell_type": "code",
      "source": [
        "# Normalize numerical features\n",
        "scaler = MinMaxScaler()\n",
        "customer_features_scaled = scaler.fit_transform(customer_features.drop(columns=['CustomerID']))"
      ],
      "metadata": {
        "id": "cr7icVBwVa3g"
      },
      "execution_count": null,
      "outputs": []
    },
    {
      "cell_type": "code",
      "source": [
        "\n",
        "# ======================\n",
        "# 4. Similarity Calculation\n",
        "# ======================\n",
        "# Compute cosine similarity\n",
        "similarity_matrix = cosine_similarity(customer_features_scaled)\n",
        "\n",
        "# Create a DataFrame to store similarity scores\n",
        "similarity_df = pd.DataFrame(similarity_matrix, index=customer_features['CustomerID'], columns=customer_features['CustomerID'])"
      ],
      "metadata": {
        "id": "kO776I5aVdMa"
      },
      "execution_count": null,
      "outputs": []
    },
    {
      "cell_type": "code",
      "source": [
        "# 5. Generate Recommendations\n",
        "# ======================\n",
        "# Function to get top N similar customers\n",
        "def get_top_similar(customer_id, top_n=3):\n",
        "    scores = similarity_df.loc[customer_id].sort_values(ascending=False)[1:top_n+1]\n",
        "    return list(zip(scores.index, scores.values))\n"
      ],
      "metadata": {
        "id": "RlaQ0uBLVjFB"
      },
      "execution_count": null,
      "outputs": []
    },
    {
      "cell_type": "code",
      "source": [
        "# Generate recommendations for CustomerID: C0001 to C0020\n",
        "lookalike_results = {}\n",
        "for customer_id in customer_features['CustomerID'][:20]:\n",
        "    lookalike_results[customer_id] = get_top_similar(customer_id)\n",
        "\n",
        "# Save recommendations to Lookalike.csv\n",
        "lookalike_data = [{\"cust_id\": cust_id, \"recommendations\": str(recommendations)}\n",
        "                  for cust_id, recommendations in lookalike_results.items()]\n",
        "lookalike_df = pd.DataFrame(lookalike_data)\n",
        "lookalike_df.to_csv(\"Lookalike.csv\", index=False)"
      ],
      "metadata": {
        "id": "dzuIBYP7Vncg"
      },
      "execution_count": null,
      "outputs": []
    },
    {
      "cell_type": "code",
      "source": [
        "# 6. Output Example\n",
        "# ======================\n",
        "print(lookalike_df.head())"
      ],
      "metadata": {
        "colab": {
          "base_uri": "https://localhost:8080/"
        },
        "id": "kYRZjMDFVpok",
        "outputId": "f3ebc038-8d0d-4933-e483-1dede375a95f"
      },
      "execution_count": null,
      "outputs": [
        {
          "output_type": "stream",
          "name": "stdout",
          "text": [
            "  cust_id                                    recommendations\n",
            "0   C0001  [('C0137', 0.9999955257915722), ('C0152', 0.99...\n",
            "1   C0002  [('C0142', 0.9975354915923277), ('C0088', 0.99...\n",
            "2   C0003  [('C0133', 0.9996544462069554), ('C0052', 0.99...\n",
            "3   C0004  [('C0113', 0.9988541163061573), ('C0102', 0.99...\n",
            "4   C0005  [('C0159', 0.9999642002884194), ('C0186', 0.99...\n"
          ]
        }
      ]
    },
    {
      "cell_type": "code",
      "source": [],
      "metadata": {
        "id": "qBRugateVsd-"
      },
      "execution_count": null,
      "outputs": []
    }
  ]
}